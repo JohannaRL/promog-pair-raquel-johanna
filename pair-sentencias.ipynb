{
 "cells": [
  {
   "cell_type": "code",
   "execution_count": 5,
   "metadata": {},
   "outputs": [
    {
     "name": "stdout",
     "output_type": "stream",
     "text": [
      "Tu número es 0\n"
     ]
    }
   ],
   "source": [
    "# 1 Verificar si un número es positivo, negativo o cero\n",
    "# Descripción: Dado un número, verifica si es positivo, negativo o cero\n",
    "\n",
    "numero = int(input(\"Introduce un número entero\"))\n",
    "\n",
    "if numero >0:\n",
    "    print(\"Positivo\")\n",
    "elif numero <0:\n",
    "    print(\"Negativo\")\n",
    "else: print(\"Tu número es 0\")"
   ]
  },
  {
   "cell_type": "code",
   "execution_count": 14,
   "metadata": {},
   "outputs": [
    {
     "name": "stdout",
     "output_type": "stream",
     "text": [
      "Tu número es impar\n"
     ]
    }
   ],
   "source": [
    "# 2 Verificar si un número es par o impar\n",
    "# Descripción: Dado un número, verifica si es par o impar.\n",
    "\n",
    "numeroA= int(input(\"Introduce un número\"))\n",
    "\n",
    "if numeroA%2 == int():\n",
    "    print(\"Tu número es par\")\n",
    "\n",
    "else:\n",
    "    print(\"Tu número es impar\")\n",
    "\n",
    "\n",
    "\n"
   ]
  },
  {
   "cell_type": "code",
   "execution_count": 18,
   "metadata": {},
   "outputs": [
    {
     "name": "stdout",
     "output_type": "stream",
     "text": [
      "Suspendido\n"
     ]
    }
   ],
   "source": [
    "# 3 Verificar si un estudiante aprobó o suspendió un examen\n",
    "# Descripción: Dada la calificación de un estudiante en un examen, verifica si aprobó o suspendió (si la calificación es mayor o igual a 60 se considera aprobado).\n",
    "\n",
    "calificacion = int(input(\"Nota alumno\"))\n",
    "\n",
    "if calificacion >= 60:\n",
    "    print(\"Aprobado\")\n",
    "\n",
    "else:\n",
    "    print(\"Suspendido\")"
   ]
  },
  {
   "cell_type": "code",
   "execution_count": 21,
   "metadata": {},
   "outputs": [
    {
     "name": "stdout",
     "output_type": "stream",
     "text": [
      "El segundo es mayor que el primero\n"
     ]
    }
   ],
   "source": [
    "# 4 Calcular el máximo entre dos números\n",
    "# Descripción: Dados dos números, encuentra el máximo entre ellos.\n",
    "\n",
    "\n",
    "numero1 = int(input(\"Introduce el primer número\"))\n",
    "numero2 = int(input(\"Introduce el segundo número\"))\n",
    "\n",
    "if numero1 > numero2:\n",
    "    print(\"El primer número es mayor que el segundo\")\n",
    "\n",
    "else: \n",
    "    print(\"El segundo es mayor que el primero\")\n"
   ]
  },
  {
   "cell_type": "code",
   "execution_count": 38,
   "metadata": {},
   "outputs": [
    {
     "name": "stdout",
     "output_type": "stream",
     "text": [
      "consonante\n"
     ]
    }
   ],
   "source": [
    "# 5 Verificar si una letra es una vocal o una consonante\n",
    "# Descripción: Dada una letra, verifica si es una vocal o una consonante.\n",
    "\n",
    "letra1 = input ('introduce una vocal').lower()\n",
    "vocal = 'a'\n",
    "vocal1 = 'e'\n",
    "vocal2 = 'i'\n",
    "vocal3 = 'o'\n",
    "vocal4 = 'u'\n",
    "if letra1 == vocal:\n",
    " print ('vocal')\n",
    "elif letra1 == vocal1:\n",
    "  print ('vocal')\n",
    "elif letra1 == vocal2:\n",
    "  print ('vocal')\n",
    "elif letra1 == vocal3:\n",
    "  print ('vocal')\n",
    "elif letra1 == vocal4:\n",
    "  print ('vocal')\n",
    "else: \n",
    " print ('consonante')"
   ]
  },
  {
   "cell_type": "code",
   "execution_count": 39,
   "metadata": {},
   "outputs": [
    {
     "name": "stdout",
     "output_type": "stream",
     "text": [
      "vocal\n"
     ]
    }
   ],
   "source": [
    "# Forma resumen \n",
    "\n",
    "letra1 = input ('introduce una vocal').lower()\n",
    "vocal = 'a'\n",
    "vocal1 = 'e'\n",
    "vocal2 = 'i'\n",
    "vocal3 = 'o'\n",
    "vocal4 = 'u'\n",
    "if letra1 == vocal or vocal1 or vocal2 or vocal3 or vocal4:\n",
    " print ('vocal')\n",
    "else: \n",
    " print ('consonante')"
   ]
  },
  {
   "cell_type": "code",
   "execution_count": 47,
   "metadata": {},
   "outputs": [
    {
     "name": "stdout",
     "output_type": "stream",
     "text": [
      "Se le aplica un descuento del 10%. Total descuento: 16.7\n"
     ]
    }
   ],
   "source": [
    "# 6 Calcular el descuento en una compra según el monto total\n",
    "# Descripción: Dado el monto total de una compra, calcula el descuento aplicado según las siguientes condiciones: \n",
    "# si el monto es mayor o igual a $100, aplica un descuento del 10%; de lo contrario, no aplica ningún descuento\n",
    "\n",
    "total_compra = int(input(\"Introduzca el total de su compra\"))\n",
    "\n",
    "if total_compra >= 100:\n",
    "    print(\"Se le aplica un descuento del 10%.\",\"Total descuento:\" ,total_compra * 0.10)\n",
    "else : print(\"No hay descuento\")"
   ]
  },
  {
   "cell_type": "code",
   "execution_count": 53,
   "metadata": {},
   "outputs": [],
   "source": [
    "# 7 Verificar si un año es bisiesto o no\n",
    "# Descripción: Dado un año, verifica si es bisiesto o no (un año es bisiesto si es divisible entre 4, excepto aquellos divisibles entre 100 pero no entre 400).\n",
    "\n",
    "año = int(input(\"Introduce un año\"))\n",
    "\n",
    "\n",
    "if año%4 == int():\n",
    "    print(\"Año bisiesto\")\n",
    "    \n",
    "    if año%400 == int():\n",
    "        print(\"Año bisiesto\")\n",
    "\n",
    "elif año%100 == int():\n",
    "    print(\"Año no bisiesto\")"
   ]
  },
  {
   "cell_type": "code",
   "execution_count": 54,
   "metadata": {},
   "outputs": [
    {
     "data": {
      "text/plain": [
       "0"
      ]
     },
     "execution_count": 54,
     "metadata": {},
     "output_type": "execute_result"
    }
   ],
   "source": [
    "int()"
   ]
  },
  {
   "cell_type": "code",
   "execution_count": 60,
   "metadata": {},
   "outputs": [
    {
     "name": "stdout",
     "output_type": "stream",
     "text": [
      "Año no bisiesto\n"
     ]
    }
   ],
   "source": [
    "año=int(input(\"Introduce un año\"))\n",
    "\n",
    "if año % 4 == 0 and (año % 100 != 0 or año % 400 == 0):\n",
    "    print(\"Año bisiesto\")\n",
    "\n",
    " \n",
    "else: \n",
    "    print(\"Año no bisiesto\")"
   ]
  },
  {
   "cell_type": "code",
   "execution_count": 62,
   "metadata": {},
   "outputs": [
    {
     "ename": "SyntaxError",
     "evalue": "invalid syntax (3835485321.py, line 13)",
     "output_type": "error",
     "traceback": [
      "\u001b[0;36m  File \u001b[0;32m\"/tmp/ipykernel_12360/3835485321.py\"\u001b[0;36m, line \u001b[0;32m13\u001b[0m\n\u001b[0;31m    else:\u001b[0m\n\u001b[0m    ^\u001b[0m\n\u001b[0;31mSyntaxError\u001b[0m\u001b[0;31m:\u001b[0m invalid syntax\n"
     ]
    }
   ],
   "source": [
    "anio = int(input(\"Introduce un año: \"))\n",
    "\n",
    "if anio % 4  == 0:\n",
    "   print(\"es divisible entre4\")\n",
    "if anio %  100  == 0:\n",
    "        print(\"es divisible entre 100\")\n",
    "        if anio  %  400  == 0:\n",
    "            print(\"El año es bisiesto.\")\n",
    "        else:\n",
    "            print(\"El año no es bisiesto.\")\n",
    "else:\n",
    "        print(\"El año es bisiesto.\")\n",
    "else:\n",
    "    print(\"El año no es bisiesto.\")"
   ]
  },
  {
   "cell_type": "code",
   "execution_count": null,
   "metadata": {},
   "outputs": [],
   "source": [
    "# 8 Asignar una categoría a una edad\n",
    "# Descripción: Dada una edad, asigna una categoría según las siguientes condiciones: si la edad es menor de 18, la categoría es \"Menor de edad\"; si la edad está entre 18 y 64 (incluyendo ambos), la categoría es \"Adulto\"; de lo contrario, la categoría es \"Adulto mayor\"."
   ]
  },
  {
   "cell_type": "code",
   "execution_count": null,
   "metadata": {},
   "outputs": [],
   "source": [
    "# 9 "
   ]
  }
 ],
 "metadata": {
  "kernelspec": {
   "display_name": "base",
   "language": "python",
   "name": "python3"
  },
  "language_info": {
   "codemirror_mode": {
    "name": "ipython",
    "version": 3
   },
   "file_extension": ".py",
   "mimetype": "text/x-python",
   "name": "python",
   "nbconvert_exporter": "python",
   "pygments_lexer": "ipython3",
   "version": "3.9.7"
  }
 },
 "nbformat": 4,
 "nbformat_minor": 2
}
