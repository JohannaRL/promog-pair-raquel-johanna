{
 "cells": [
  {
   "cell_type": "markdown",
   "metadata": {},
   "source": [
    "## EJERCICIOS SENTENCIAS DE CONTROL ##"
   ]
  },
  {
   "cell_type": "code",
   "execution_count": 2,
   "metadata": {},
   "outputs": [
    {
     "name": "stdout",
     "output_type": "stream",
     "text": [
      "Positivo\n"
     ]
    }
   ],
   "source": [
    "# 1 Verificar si un número es positivo, negativo o cero\n",
    "# Descripción: Dado un número, verifica si es positivo, negativo o cero\n",
    "\n",
    "numero = int(input(\"Introduce un número entero\"))\n",
    "\n",
    "if numero >0:\n",
    "    print(\"Positivo\")\n",
    "elif numero <0:\n",
    "    print(\"Negativo\")\n",
    "else: print(\"Tu número es 0\")"
   ]
  },
  {
   "cell_type": "code",
   "execution_count": 3,
   "metadata": {},
   "outputs": [
    {
     "name": "stdout",
     "output_type": "stream",
     "text": [
      "Tu número es impar\n"
     ]
    }
   ],
   "source": [
    "# 2 Verificar si un número es par o impar\n",
    "# Descripción: Dado un número, verifica si es par o impar.\n",
    "\n",
    "numeroA= int(input(\"Introduce un número\"))\n",
    "\n",
    "if numeroA%2 == int():\n",
    "    print(\"Tu número es par\")\n",
    "\n",
    "else:\n",
    "    print(\"Tu número es impar\")\n"
   ]
  },
  {
   "cell_type": "code",
   "execution_count": 4,
   "metadata": {},
   "outputs": [
    {
     "name": "stdout",
     "output_type": "stream",
     "text": [
      "Suspendido\n"
     ]
    }
   ],
   "source": [
    "# 3 Verificar si un estudiante aprobó o suspendió un examen\n",
    "# Descripción: Dada la calificación de un estudiante en un examen, verifica si aprobó o suspendió (si la calificación es mayor o igual a 60 se considera aprobado).\n",
    "\n",
    "calificacion = int(input(\"Nota alumno\"))\n",
    "\n",
    "if calificacion >= 60:\n",
    "    print(\"Aprobado\")\n",
    "\n",
    "else:\n",
    "    print(\"Suspendido\")"
   ]
  },
  {
   "cell_type": "code",
   "execution_count": 5,
   "metadata": {},
   "outputs": [
    {
     "name": "stdout",
     "output_type": "stream",
     "text": [
      "El segundo es mayor que el primero\n"
     ]
    }
   ],
   "source": [
    "# 4 Calcular el máximo entre dos números\n",
    "# Descripción: Dados dos números, encuentra el máximo entre ellos.\n",
    "\n",
    "\n",
    "numero1 = int(input(\"Introduce el primer número\"))\n",
    "numero2 = int(input(\"Introduce el segundo número\"))\n",
    "\n",
    "if numero1 > numero2:\n",
    "    print(\"El primer número es mayor que el segundo\")\n",
    "\n",
    "else: \n",
    "    print(\"El segundo es mayor que el primero\")\n"
   ]
  },
  {
   "cell_type": "code",
   "execution_count": 7,
   "metadata": {},
   "outputs": [
    {
     "name": "stdout",
     "output_type": "stream",
     "text": [
      "vocal\n"
     ]
    }
   ],
   "source": [
    "# 5 Verificar si una letra es una vocal o una consonante\n",
    "# Descripción: Dada una letra, verifica si es una vocal o una consonante.\n",
    "\n",
    "letra1 = input ('introduce una vocal').lower()\n",
    "vocal = 'a'\n",
    "vocal1 = 'e'\n",
    "vocal2 = 'i'\n",
    "vocal3 = 'o'\n",
    "vocal4 = 'u'\n",
    "if letra1 == vocal:\n",
    " print ('vocal')\n",
    "elif letra1 == vocal1:\n",
    "  print ('vocal')\n",
    "elif letra1 == vocal2:\n",
    "  print ('vocal')\n",
    "elif letra1 == vocal3:\n",
    "  print ('vocal')\n",
    "elif letra1 == vocal4:\n",
    "  print ('vocal')\n",
    "else: \n",
    " print ('consonante')"
   ]
  },
  {
   "cell_type": "code",
   "execution_count": 39,
   "metadata": {},
   "outputs": [
    {
     "name": "stdout",
     "output_type": "stream",
     "text": [
      "vocal\n"
     ]
    }
   ],
   "source": [
    "# Forma resumen \n",
    "\n",
    "letra1 = input ('introduce una vocal').lower()\n",
    "vocal = 'a'\n",
    "vocal1 = 'e'\n",
    "vocal2 = 'i'\n",
    "vocal3 = 'o'\n",
    "vocal4 = 'u'\n",
    "if letra1 == vocal or vocal1 or vocal2 or vocal3 or vocal4:\n",
    " print ('vocal')\n",
    "else: \n",
    " print ('consonante')"
   ]
  },
  {
   "cell_type": "code",
   "execution_count": 9,
   "metadata": {},
   "outputs": [
    {
     "name": "stdout",
     "output_type": "stream",
     "text": [
      "Se le aplica un descuento del 10%. Total descuento: 11.0\n"
     ]
    }
   ],
   "source": [
    "# 6 Calcular el descuento en una compra según el monto total\n",
    "# Descripción: Dado el monto total de una compra, calcula el descuento aplicado según las siguientes condiciones: \n",
    "# si el monto es mayor o igual a $100, aplica un descuento del 10%; de lo contrario, no aplica ningún descuento\n",
    "\n",
    "total_compra = int(input(\"Introduzca el total de su compra\"))\n",
    "\n",
    "if total_compra >= 100:\n",
    "    print(\"Se le aplica un descuento del 10%.\",\"Total descuento:\" ,total_compra * 0.10)\n",
    "else : print(\"No hay descuento\")"
   ]
  },
  {
   "cell_type": "code",
   "execution_count": 10,
   "metadata": {},
   "outputs": [
    {
     "name": "stdout",
     "output_type": "stream",
     "text": [
      "Año bisiesto\n"
     ]
    }
   ],
   "source": [
    "# 7 Verificar si un año es bisiesto o no\n",
    "# Descripción: Dado un año, verifica si es bisiesto o no (un año es bisiesto si es divisible entre 4, excepto aquellos divisibles entre 100 pero no entre 400).\n",
    "\n",
    "año = int(input(\"Introduce un año\"))\n",
    "\n",
    "\n",
    "if año%4 == int():\n",
    "    print(\"Año bisiesto\")\n",
    "    \n",
    "    if año%400 == int():\n",
    "        print(\"Año bisiesto\")\n",
    "\n",
    "elif año%100 == int():\n",
    "    print(\"Año no bisiesto\")"
   ]
  },
  {
   "cell_type": "code",
   "execution_count": 60,
   "metadata": {},
   "outputs": [
    {
     "name": "stdout",
     "output_type": "stream",
     "text": [
      "Año no bisiesto\n"
     ]
    }
   ],
   "source": [
    "año=int(input(\"Introduce un año\"))\n",
    "\n",
    "if año % 4 == 0 and (año % 100 != 0 or año % 400 == 0):\n",
    "    print(\"Año bisiesto\")\n",
    "\n",
    " \n",
    "else: \n",
    "    print(\"Año no bisiesto\")"
   ]
  },
  {
   "cell_type": "code",
   "execution_count": 1,
   "metadata": {},
   "outputs": [
    {
     "name": "stdout",
     "output_type": "stream",
     "text": [
      "es divisible entre4\n",
      "El año es bisiesto.\n"
     ]
    }
   ],
   "source": [
    "# EJEMPLO CARLA\n",
    "\n",
    "anio = int(input(\"Introduce un año: \"))\n",
    "\n",
    "if anio % 4  == 0:\n",
    "   print(\"es divisible entre4\")\n",
    "if anio %  100  == 0:\n",
    "        print(\"es divisible entre 100\")\n",
    "        if anio  %  400  == 0:\n",
    "            print(\"El año es bisiesto.\")\n",
    "        else:\n",
    "            print(\"El año no es bisiesto.\")\n",
    "else:\n",
    "    print(\"El año es bisiesto.\")"
   ]
  },
  {
   "cell_type": "code",
   "execution_count": null,
   "metadata": {},
   "outputs": [],
   "source": [
    "# 8 Asignar una categoría a una edad\n",
    "# Descripción: Dada una edad, asigna una categoría según las siguientes condiciones: si la edad es menor de 18, la categoría es \"Menor de edad\"; si la edad está entre 18 y 64 (incluyendo ambos), la categoría es \"Adulto\"; de lo contrario, la categoría es \"Adulto mayor\"."
   ]
  },
  {
   "cell_type": "code",
   "execution_count": 11,
   "metadata": {},
   "outputs": [
    {
     "name": "stdout",
     "output_type": "stream",
     "text": [
      "tu edad es 15, eres menor de edad\n"
     ]
    }
   ],
   "source": [
    "edad = int (input ('inroduce tu edad'))\n",
    "\n",
    "if edad <= 17:\n",
    "    print (f'tu edad es {edad}, eres menor de edad')\n",
    "elif edad < 63:\n",
    "    print (f'tu edad es {edad}, eres adulto')\n",
    "else:\n",
    "    print (f'tu edad es {edad}, eres adulto mayor')\n",
    "\n"
   ]
  },
  {
   "cell_type": "code",
   "execution_count": null,
   "metadata": {},
   "outputs": [],
   "source": [
    "# 9 Verificar si tres números forman un triángulo rectángulo.\n",
    "# Descripción: Dados tres números, verifica si forman un triángulo rectángulo (si se cumple el teorema de Pitágoras).\n"
   ]
  },
  {
   "cell_type": "code",
   "execution_count": 12,
   "metadata": {},
   "outputs": [
    {
     "name": "stdout",
     "output_type": "stream",
     "text": [
      "el triángulo es un triángulo rectángulo\n"
     ]
    }
   ],
   "source": [
    "lado_1 = int (input('introduzca la longitud del primer lado'))\n",
    "lado_2 = int (input('introduzca la longitud del segundo lado'))\n",
    "lado_3 = int (input('introduzca la longitud del tercer lado'))\n",
    "\n",
    "if lado_1 == lado_2 == lado_3:\n",
    "    print ('el triángulo es un triángulo rectángulo')\n",
    "else:\n",
    "    print ('el triángulo no es rectángulo')"
   ]
  },
  {
   "cell_type": "code",
   "execution_count": null,
   "metadata": {},
   "outputs": [],
   "source": [
    "# 10. Asignar una calificación a una puntuación.\n",
    "# Descripción: Dada una puntuación, asigna una calificación según las siguientes condiciones: si la puntuación es mayor o igual a 90, la calificación es \"A\"; si es mayor o igual a 80, la calificación es \"B\"; si es mayor o igual a 70, la calificación es \"C\"; si es mayor o igual a 60, la calificación es \"D\"; de lo contrario, la calificación es \"F\"."
   ]
  },
  {
   "cell_type": "code",
   "execution_count": 13,
   "metadata": {},
   "outputs": [
    {
     "name": "stdout",
     "output_type": "stream",
     "text": [
      "Tienes 80,tu calificación es B\n"
     ]
    }
   ],
   "source": [
    "puntuacion = int (input ('¿cuál es tu puntación?'))\n",
    "\n",
    "if puntuacion >= 90:\n",
    "    print (f'Tienes {puntuacion},tu calificación es A')\n",
    "elif puntuacion >= 80: \n",
    "    print (f'Tienes {puntuacion},tu calificación es B')\n",
    "elif puntuacion >= 70:\n",
    "    print (f'Tienes {puntuacion},tu calificación es C')\n",
    "elif puntuacion >= 60:\n",
    "    print (f'Tienes {puntuacion},tu calificación es D')\n",
    "else:\n",
    "    print (f'Tienes {puntuacion},tu calificación es F')\n"
   ]
  },
  {
   "cell_type": "code",
   "execution_count": null,
   "metadata": {},
   "outputs": [],
   "source": [
    "# 11. Calcular el índice de masa corporal (IMC) y categorizarlo.\n",
    "# Descripción: Dados el peso (en kg) y la altura (en metros) de una persona, calcula su IMC y categorízalo según las siguientes condiciones: si el IMC es menor a 18.5, es \"Bajo peso\"; si está entre 18.5 y 24.9 (inclusive), es \"Peso normal\"; si está entre 25 y 29.9 (inclusive), es \"Sobrepeso\"; de lo contrario, es \"Obesidad\"."
   ]
  },
  {
   "cell_type": "code",
   "execution_count": 14,
   "metadata": {},
   "outputs": [
    {
     "name": "stdout",
     "output_type": "stream",
     "text": [
      "su imc es 23.875114784205696, tiene peso normal\n"
     ]
    }
   ],
   "source": [
    "peso = float (input('Indique su peso'))\n",
    "altura = float (input ('indique su altura'))\n",
    "imc = peso/altura **2\n",
    "\n",
    "if imc < 18.5:\n",
    "    print (f'su imc es {imc}, tiene bajo peso')\n",
    "elif imc <= 24.9: \n",
    "    print (f'su imc es {imc}, tiene peso normal')\n",
    "elif imc <= 29.9:\n",
    "    print (f'su imc es {imc}, tiene sobrepeso')\n",
    "else:\n",
    "    print (f'su imc es {imc}, tiene obesidad')"
   ]
  },
  {
   "cell_type": "code",
   "execution_count": 15,
   "metadata": {},
   "outputs": [
    {
     "name": "stdout",
     "output_type": "stream",
     "text": [
      "dos de los numeros introducidos son iguales\n"
     ]
    }
   ],
   "source": [
    "# 12. Calcular el mayor de tres números.\n",
    "# Descripción: Dados tres números, encuentra el mayor entre ellos.\n",
    "\n",
    "numero_1 = int (input ('introduzca un número'))\n",
    "numero_2 = int (input ('introduzca el segundo número'))\n",
    "numero_3 = int (input ('introduzca el tercer número'))\n",
    "\n",
    "if numero_1 > numero_2 and numero_1 > numero_3:\n",
    "    print (f'el número mayor es {numero_1}')\n",
    "elif numero_2 > numero_1 and numero_2 > numero_3:\n",
    "    print (f'el número mayor es {numero_2}')\n",
    "elif numero_1 == numero_2 or numero_1 == numero_3 or numero_2 == numero_3:\n",
    "    print (f'dos de los numeros introducidos son iguales')\n",
    "else:\n",
    "    print (f'el número mayor es {numero_3}')"
   ]
  }
 ],
 "metadata": {
  "kernelspec": {
   "display_name": "base",
   "language": "python",
   "name": "python3"
  },
  "language_info": {
   "codemirror_mode": {
    "name": "ipython",
    "version": 3
   },
   "file_extension": ".py",
   "mimetype": "text/x-python",
   "name": "python",
   "nbconvert_exporter": "python",
   "pygments_lexer": "ipython3",
   "version": "3.9.7"
  }
 },
 "nbformat": 4,
 "nbformat_minor": 2
}
